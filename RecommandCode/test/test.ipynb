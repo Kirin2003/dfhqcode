{
 "cells": [
  {
   "cell_type": "markdown",
   "metadata": {},
   "source": [
    "### 使用Faker批量生成测试数据"
   ]
  },
  {
   "cell_type": "markdown",
   "metadata": {},
   "source": [
    "#### 1.批量生成用户信息"
   ]
  },
  {
   "cell_type": "code",
   "execution_count": 4,
   "metadata": {},
   "outputs": [],
   "source": [
    "from faker import Faker\n",
    "import numpy as np\n",
    "import pandas as pd"
   ]
  },
  {
   "cell_type": "code",
   "execution_count": 5,
   "metadata": {},
   "outputs": [
    {
     "name": "stdout",
     "output_type": "stream",
     "text": [
      "{'username': 'pingliu', 'name': '张雪', 'sex': 'M', 'address': '江苏省玉珍县朝阳吕街w座 479646', 'mail': 'szhang@gmail.com', 'birthdate': datetime.date(1916, 4, 7)}\n"
     ]
    }
   ],
   "source": [
    "fk = Faker(\"zh_CN\")\n",
    "print(fk.simple_profile(sex=None))"
   ]
  },
  {
   "cell_type": "code",
   "execution_count": 6,
   "metadata": {},
   "outputs": [
    {
     "data": {
      "text/plain": [
       "['Computer vision and Pattern recognition']"
      ]
     },
     "execution_count": 6,
     "metadata": {},
     "output_type": "execute_result"
    }
   ],
   "source": [
    "cate_dict = {\n",
    "    \"1\": \"Computer vision and Pattern recognition\",\n",
    "    \"2\": \"Machine Learning\",\n",
    "    \"3\": \"Robotics\",\n",
    "    \"4\": \"Image and Video processing\",\n",
    "    \"5\": \"Artificial Intelligence\",\n",
    "    \"6\": \"Others\"\n",
    "}\n",
    "a = np.random.randint(1, 7, np.random.randint(1, 7)).tolist()\n",
    "a = [cate_dict[str(item)] for item in a if a.count(item) == 1]\n",
    "a"
   ]
  },
  {
   "cell_type": "code",
   "execution_count": 7,
   "metadata": {},
   "outputs": [],
   "source": [
    "fk = Faker(\"zh_CN\")\n",
    "\n",
    "def Generate_ID(num):\n",
    "    '''\n",
    "    生成用户ID信息\n",
    "    '''\n",
    "    BaseHead = \"65010000001\"\n",
    "    IDlist = []\n",
    "\n",
    "    for i in range(num):\n",
    "        selfAdd = 1001\n",
    "        selfAdd = 1001 + i\n",
    "        result = BaseHead + str(selfAdd)\n",
    "        IDlist.append(result)\n",
    "    return IDlist\n",
    "\n",
    "def Generate_other_data(IDlist, num):\n",
    "    '''\n",
    "    1. 以IDlist中的数据作为第一列数据\n",
    "    2. Faker随机生成其他数据\n",
    "    3. 两者最终合并存入一一对应的列表中\n",
    "    '''\n",
    "    otherDataList = []\n",
    "    for i in range(num):\n",
    "        result = fk.simple_profile(sex=None)\n",
    "        tmp = np.random.randint(1, 7, np.random.randint(1, 7)).tolist()\n",
    "        interest_area = [cate_dict[str(item)] for item in tmp if tmp.count(item) == 1]\n",
    "        otherDataList.append([IDlist[i], result['name'], result['username'], result['sex'], \n",
    "                              result['mail'], result['address'], result['birthdate'], interest_area])\n",
    "    return otherDataList\n",
    "\n",
    "def data_to_csv(otherDataList):\n",
    "    outputfile = 'data/userData.csv'\n",
    "    columns = ['user_id', 'name', 'username', 'sex', 'mail', 'address', 'birthdate', 'interest_area']\n",
    "    Data = []\n",
    "    Data.append(columns)\n",
    "    Data.extend(otherDataList)\n",
    "    df = pd.DataFrame(Data)\n",
    "    df.to_csv(outputfile, encoding='utf-8', index=False, header=0)"
   ]
  },
  {
   "cell_type": "code",
   "execution_count": 8,
   "metadata": {},
   "outputs": [],
   "source": [
    "user_id_list = Generate_ID(1000)\n",
    "Data = Generate_other_data(user_id_list, 1000)\n",
    "data_to_csv(Data)"
   ]
  },
  {
   "cell_type": "code",
   "execution_count": 9,
   "metadata": {},
   "outputs": [
    {
     "data": {
      "text/html": [
       "<div>\n",
       "<style scoped>\n",
       "    .dataframe tbody tr th:only-of-type {\n",
       "        vertical-align: middle;\n",
       "    }\n",
       "\n",
       "    .dataframe tbody tr th {\n",
       "        vertical-align: top;\n",
       "    }\n",
       "\n",
       "    .dataframe thead th {\n",
       "        text-align: right;\n",
       "    }\n",
       "</style>\n",
       "<table border=\"1\" class=\"dataframe\">\n",
       "  <thead>\n",
       "    <tr style=\"text-align: right;\">\n",
       "      <th></th>\n",
       "      <th>user_id</th>\n",
       "      <th>name</th>\n",
       "      <th>username</th>\n",
       "      <th>sex</th>\n",
       "      <th>mail</th>\n",
       "      <th>address</th>\n",
       "      <th>birthdate</th>\n",
       "      <th>interest_area</th>\n",
       "    </tr>\n",
       "  </thead>\n",
       "  <tbody>\n",
       "    <tr>\n",
       "      <th>0</th>\n",
       "      <td>650100000011001</td>\n",
       "      <td>陈玲</td>\n",
       "      <td>ping69</td>\n",
       "      <td>F</td>\n",
       "      <td>chao78@gmail.com</td>\n",
       "      <td>河北省荆门市上街方街X座 273789</td>\n",
       "      <td>2010-05-27</td>\n",
       "      <td>['Artificial Intelligence', 'Machine Learning'...</td>\n",
       "    </tr>\n",
       "    <tr>\n",
       "      <th>1</th>\n",
       "      <td>650100000011002</td>\n",
       "      <td>邢雪梅</td>\n",
       "      <td>minggong</td>\n",
       "      <td>M</td>\n",
       "      <td>yanfu@yahoo.com</td>\n",
       "      <td>湖北省东莞县淄川崔路n座 996454</td>\n",
       "      <td>1944-09-27</td>\n",
       "      <td>[]</td>\n",
       "    </tr>\n",
       "    <tr>\n",
       "      <th>2</th>\n",
       "      <td>650100000011003</td>\n",
       "      <td>王淑珍</td>\n",
       "      <td>ptian</td>\n",
       "      <td>F</td>\n",
       "      <td>nfeng@gmail.com</td>\n",
       "      <td>福建省慧县南长西安路i座 627612</td>\n",
       "      <td>1917-12-31</td>\n",
       "      <td>['Computer vision and Pattern recognition', 'A...</td>\n",
       "    </tr>\n",
       "    <tr>\n",
       "      <th>3</th>\n",
       "      <td>650100000011004</td>\n",
       "      <td>古冬梅</td>\n",
       "      <td>gang62</td>\n",
       "      <td>F</td>\n",
       "      <td>li56@hotmail.com</td>\n",
       "      <td>澳门特别行政区兵市璧山徐路S座 874431</td>\n",
       "      <td>2000-05-15</td>\n",
       "      <td>['Computer vision and Pattern recognition', 'M...</td>\n",
       "    </tr>\n",
       "    <tr>\n",
       "      <th>4</th>\n",
       "      <td>650100000011005</td>\n",
       "      <td>郑志强</td>\n",
       "      <td>ming83</td>\n",
       "      <td>M</td>\n",
       "      <td>oguo@gmail.com</td>\n",
       "      <td>山西省阜新县东丽蔡路q座 976862</td>\n",
       "      <td>1917-11-07</td>\n",
       "      <td>['Image and Video processing']</td>\n",
       "    </tr>\n",
       "  </tbody>\n",
       "</table>\n",
       "</div>"
      ],
      "text/plain": [
       "           user_id name  username sex              mail  \\\n",
       "0  650100000011001   陈玲    ping69   F  chao78@gmail.com   \n",
       "1  650100000011002  邢雪梅  minggong   M   yanfu@yahoo.com   \n",
       "2  650100000011003  王淑珍     ptian   F   nfeng@gmail.com   \n",
       "3  650100000011004  古冬梅    gang62   F  li56@hotmail.com   \n",
       "4  650100000011005  郑志强    ming83   M    oguo@gmail.com   \n",
       "\n",
       "                  address   birthdate  \\\n",
       "0     河北省荆门市上街方街X座 273789  2010-05-27   \n",
       "1     湖北省东莞县淄川崔路n座 996454  1944-09-27   \n",
       "2     福建省慧县南长西安路i座 627612  1917-12-31   \n",
       "3  澳门特别行政区兵市璧山徐路S座 874431  2000-05-15   \n",
       "4     山西省阜新县东丽蔡路q座 976862  1917-11-07   \n",
       "\n",
       "                                       interest_area  \n",
       "0  ['Artificial Intelligence', 'Machine Learning'...  \n",
       "1                                                 []  \n",
       "2  ['Computer vision and Pattern recognition', 'A...  \n",
       "3  ['Computer vision and Pattern recognition', 'M...  \n",
       "4                     ['Image and Video processing']  "
      ]
     },
     "execution_count": 9,
     "metadata": {},
     "output_type": "execute_result"
    }
   ],
   "source": [
    "user_data = pd.read_csv('./data/userData.csv')\n",
    "user_data.head()"
   ]
  },
  {
   "cell_type": "markdown",
   "metadata": {},
   "source": [
    "#### 2.导入论文信息并处理"
   ]
  },
  {
   "cell_type": "code",
   "execution_count": 10,
   "metadata": {},
   "outputs": [
    {
     "name": "stderr",
     "output_type": "stream",
     "text": [
      "<ipython-input-10-83314ef5fec2>:3: FutureWarning: Inferring datetime64[ns] from data containing strings is deprecated and will be removed in a future version. To retain the old behavior explicitly pass Series(data, dtype=datetime64[ns])\n",
      "  df = pd.read_excel('data/papers1.xlsx').loc[:, [\"id\", \"title\", \"paperAbstract\", \"subject\"]]     # 读取excel文件\n"
     ]
    },
    {
     "data": {
      "text/html": [
       "<div>\n",
       "<style scoped>\n",
       "    .dataframe tbody tr th:only-of-type {\n",
       "        vertical-align: middle;\n",
       "    }\n",
       "\n",
       "    .dataframe tbody tr th {\n",
       "        vertical-align: top;\n",
       "    }\n",
       "\n",
       "    .dataframe thead th {\n",
       "        text-align: right;\n",
       "    }\n",
       "</style>\n",
       "<table border=\"1\" class=\"dataframe\">\n",
       "  <thead>\n",
       "    <tr style=\"text-align: right;\">\n",
       "      <th></th>\n",
       "      <th>id</th>\n",
       "      <th>title</th>\n",
       "      <th>paperAbstract</th>\n",
       "      <th>subject</th>\n",
       "    </tr>\n",
       "  </thead>\n",
       "  <tbody>\n",
       "    <tr>\n",
       "      <th>0</th>\n",
       "      <td>6593edae-c1e9-4168-872d-ef3ebcabd270</td>\n",
       "      <td>Dual Cross-Attention Learning for Fine-Grained...</td>\n",
       "      <td>Recently, self-attention mechanisms have shown...</td>\n",
       "      <td>Computer vision and Pattern recognition</td>\n",
       "    </tr>\n",
       "    <tr>\n",
       "      <th>1</th>\n",
       "      <td>8748010d-548b-442c-ae40-bfc3b2e3e858</td>\n",
       "      <td>SimAN: Exploring Self-Supervised Representatio...</td>\n",
       "      <td>Recently self-supervised representation learni...</td>\n",
       "      <td>Computer vision and Pattern recognition</td>\n",
       "    </tr>\n",
       "    <tr>\n",
       "      <th>2</th>\n",
       "      <td>68c47039-f44c-404b-a936-2a3a6f7c1a8c</td>\n",
       "      <td>Weakly Supervised Semantic Segmentation by Pix...</td>\n",
       "      <td>Though image-level weakly supervised semantic ...</td>\n",
       "      <td>Computer vision and Pattern recognition</td>\n",
       "    </tr>\n",
       "    <tr>\n",
       "      <th>3</th>\n",
       "      <td>acc17ed9-1f72-43b5-8938-78c694966ce1</td>\n",
       "      <td>Controllable Animation of Fluid Elements in St...</td>\n",
       "      <td>We propose a method to interactively control t...</td>\n",
       "      <td>Computer vision and Pattern recognition</td>\n",
       "    </tr>\n",
       "    <tr>\n",
       "      <th>4</th>\n",
       "      <td>cce8e8d7-9850-4acc-b7aa-40e13fe31a5b</td>\n",
       "      <td>Recurrent Dynamic Embedding for Video Object S...</td>\n",
       "      <td>Space-time memory (STM) based video object seg...</td>\n",
       "      <td>Computer vision and Pattern recognition</td>\n",
       "    </tr>\n",
       "  </tbody>\n",
       "</table>\n",
       "</div>"
      ],
      "text/plain": [
       "                                     id  \\\n",
       "0  6593edae-c1e9-4168-872d-ef3ebcabd270   \n",
       "1  8748010d-548b-442c-ae40-bfc3b2e3e858   \n",
       "2  68c47039-f44c-404b-a936-2a3a6f7c1a8c   \n",
       "3  acc17ed9-1f72-43b5-8938-78c694966ce1   \n",
       "4  cce8e8d7-9850-4acc-b7aa-40e13fe31a5b   \n",
       "\n",
       "                                               title  \\\n",
       "0  Dual Cross-Attention Learning for Fine-Grained...   \n",
       "1  SimAN: Exploring Self-Supervised Representatio...   \n",
       "2  Weakly Supervised Semantic Segmentation by Pix...   \n",
       "3  Controllable Animation of Fluid Elements in St...   \n",
       "4  Recurrent Dynamic Embedding for Video Object S...   \n",
       "\n",
       "                                       paperAbstract  \\\n",
       "0  Recently, self-attention mechanisms have shown...   \n",
       "1  Recently self-supervised representation learni...   \n",
       "2  Though image-level weakly supervised semantic ...   \n",
       "3  We propose a method to interactively control t...   \n",
       "4  Space-time memory (STM) based video object seg...   \n",
       "\n",
       "                                   subject  \n",
       "0  Computer vision and Pattern recognition  \n",
       "1  Computer vision and Pattern recognition  \n",
       "2  Computer vision and Pattern recognition  \n",
       "3  Computer vision and Pattern recognition  \n",
       "4  Computer vision and Pattern recognition  "
      ]
     },
     "execution_count": 10,
     "metadata": {},
     "output_type": "execute_result"
    }
   ],
   "source": [
    "# 解决数据输出时列名不对齐的问题\n",
    "pd.set_option('display.unicode.east_asian_width', True)\n",
    "df = pd.read_excel('data/papers1.xlsx').loc[:, [\"id\", \"title\", \"paperAbstract\", \"subject\"]]     # 读取excel文件\n",
    "df.head()"
   ]
  },
  {
   "cell_type": "code",
   "execution_count": 11,
   "metadata": {},
   "outputs": [],
   "source": [
    "import re\n",
    "import nltk\n",
    "import pandas as pd\n",
    "import numpy as np\n",
    "from nltk.corpus import stopwords\n",
    "from sklearn.feature_extraction.text import TfidfVectorizer\n",
    "\n",
    "def get_key_words(words_str):\n",
    "    \"\"\"\n",
    "    提取TOPN关键词\n",
    "    :param words_str: 表示需要提取的文本，是论文的摘要\n",
    "    :param subject: 论文的主题\n",
    "    :return:\n",
    "    \"\"\"\n",
    "    # 字符串进行清洗\n",
    "    words_str.replace('\\n', '').replace('\\u3000', '').replace('\\u00A0', '')\n",
    "    # 定义标点符号列表\n",
    "    words_str = re.sub(\"[0-9.:;,?&$@!()%#^*]\", \"\", words_str)\n",
    "    # 定义停用词\n",
    "    stops = set(stopwords.words(\"english\"))\n",
    "\n",
    "    # 切词\n",
    "    words_list = nltk.word_tokenize(words_str)\n",
    "    # 去除停用词\n",
    "    words_list = [word for word in words_list if word not in stops and word.lower() not in stops]\n",
    "\n",
    "    vectorizer = TfidfVectorizer()\n",
    "    X = vectorizer.fit_transform([\" \".join(words_list)])\n",
    "    data = {\"key_words\": vectorizer.get_feature_names(),\n",
    "            \"tfidf\": X.toarray().sum(axis=0).tolist()}\n",
    "    df = pd.DataFrame(data).sort_values(by=\"tfidf\", ascending=False)\n",
    "    return np.array(df.iloc[0:10, 0]).tolist()"
   ]
  },
  {
   "cell_type": "code",
   "execution_count": 12,
   "metadata": {},
   "outputs": [],
   "source": [
    "dataList = [[\"paper_id\", \"key_words\", \"subject\"]]\n",
    "# 获取所有的paper_id\n",
    "paper_id_list = []\n",
    "for row in df.itertuples():\n",
    "    tmp = []\n",
    "    tmp.append(getattr(row, 'id'))\n",
    "    paper_id_list.append(getattr(row, 'id'))\n",
    "    tmp.append(get_key_words(getattr(row, 'paperAbstract')))\n",
    "    tmp.append(getattr(row, 'subject'))\n",
    "    dataList.append(tmp)\n",
    "df = pd.DataFrame(dataList)\n",
    "outputfile = './data/papers.csv'\n",
    "df.to_csv(outputfile, encoding='utf-8', index=False, header=0)"
   ]
  },
  {
   "cell_type": "code",
   "execution_count": 16,
   "metadata": {},
   "outputs": [
    {
     "data": {
      "text/html": [
       "<div>\n",
       "<style scoped>\n",
       "    .dataframe tbody tr th:only-of-type {\n",
       "        vertical-align: middle;\n",
       "    }\n",
       "\n",
       "    .dataframe tbody tr th {\n",
       "        vertical-align: top;\n",
       "    }\n",
       "\n",
       "    .dataframe thead th {\n",
       "        text-align: right;\n",
       "    }\n",
       "</style>\n",
       "<table border=\"1\" class=\"dataframe\">\n",
       "  <thead>\n",
       "    <tr style=\"text-align: right;\">\n",
       "      <th></th>\n",
       "      <th>key_words</th>\n",
       "      <th>subject</th>\n",
       "    </tr>\n",
       "    <tr>\n",
       "      <th>paper_id</th>\n",
       "      <th></th>\n",
       "      <th></th>\n",
       "    </tr>\n",
       "  </thead>\n",
       "  <tbody>\n",
       "    <tr>\n",
       "      <th>6593edae-c1e9-4168-872d-ef3ebcabd270</th>\n",
       "      <td>['attention', 'self', 'cross', 'image', 'globa...</td>\n",
       "      <td>Computer vision and Pattern recognition</td>\n",
       "    </tr>\n",
       "    <tr>\n",
       "      <th>8748010d-548b-442c-ae40-bfc3b2e3e858</th>\n",
       "      <td>['representation', 'patch', 'learning', 'image...</td>\n",
       "      <td>Computer vision and Pattern recognition</td>\n",
       "    </tr>\n",
       "    <tr>\n",
       "      <th>68c47039-f44c-404b-a936-2a3a6f7c1a8c</th>\n",
       "      <td>['method', 'segmentation', 'wsss', 'class', 'l...</td>\n",
       "      <td>Computer vision and Pattern recognition</td>\n",
       "    </tr>\n",
       "    <tr>\n",
       "      <th>acc17ed9-1f72-43b5-8938-78c694966ce1</th>\n",
       "      <td>['map', 'flow', 'optical', 'elements', 'fluid'...</td>\n",
       "      <td>Computer vision and Pattern recognition</td>\n",
       "    </tr>\n",
       "    <tr>\n",
       "      <th>cce8e8d7-9850-4acc-b7aa-40e13fe31a5b</th>\n",
       "      <td>['memory', 'bank', 'information', 'sam', 'inac...</td>\n",
       "      <td>Computer vision and Pattern recognition</td>\n",
       "    </tr>\n",
       "  </tbody>\n",
       "</table>\n",
       "</div>"
      ],
      "text/plain": [
       "                                                                              key_words  \\\n",
       "paper_id                                                                                  \n",
       "6593edae-c1e9-4168-872d-ef3ebcabd270  ['attention', 'self', 'cross', 'image', 'globa...   \n",
       "8748010d-548b-442c-ae40-bfc3b2e3e858  ['representation', 'patch', 'learning', 'image...   \n",
       "68c47039-f44c-404b-a936-2a3a6f7c1a8c  ['method', 'segmentation', 'wsss', 'class', 'l...   \n",
       "acc17ed9-1f72-43b5-8938-78c694966ce1  ['map', 'flow', 'optical', 'elements', 'fluid'...   \n",
       "cce8e8d7-9850-4acc-b7aa-40e13fe31a5b  ['memory', 'bank', 'information', 'sam', 'inac...   \n",
       "\n",
       "                                                                      subject  \n",
       "paper_id                                                                       \n",
       "6593edae-c1e9-4168-872d-ef3ebcabd270  Computer vision and Pattern recognition  \n",
       "8748010d-548b-442c-ae40-bfc3b2e3e858  Computer vision and Pattern recognition  \n",
       "68c47039-f44c-404b-a936-2a3a6f7c1a8c  Computer vision and Pattern recognition  \n",
       "acc17ed9-1f72-43b5-8938-78c694966ce1  Computer vision and Pattern recognition  \n",
       "cce8e8d7-9850-4acc-b7aa-40e13fe31a5b  Computer vision and Pattern recognition  "
      ]
     },
     "execution_count": 16,
     "metadata": {},
     "output_type": "execute_result"
    }
   ],
   "source": [
    "paper_data = pd.read_csv('./data/papers.csv')\n",
    "paper_data.set_index(\"paper_id\", inplace=True)\n",
    "paper_data.head()"
   ]
  },
  {
   "cell_type": "markdown",
   "metadata": {},
   "source": [
    "#### 3.批量生成用户交互信息"
   ]
  },
  {
   "cell_type": "code",
   "execution_count": 14,
   "metadata": {},
   "outputs": [],
   "source": [
    "def Generate_behavior_data(num):\n",
    "    '''\n",
    "    批量生成用户交互信息\n",
    "    '''\n",
    "    for i in range(num):\n",
    "        user_id = user_id_list[np.random.randint(0, len(user_id_list))]\n",
    "        paper_id = paper_id_list[np.random.randint(0, len(paper_id_list))]\n",
    "        data_time = fk.date_time_between(start_date=\"-30d\", end_date=\"now\")\n",
    "        "
   ]
  },
  {
   "cell_type": "markdown",
   "metadata": {},
   "source": [
    "#### 4.Doc2Vec演示"
   ]
  },
  {
   "cell_type": "code",
   "execution_count": 17,
   "metadata": {},
   "outputs": [],
   "source": [
    "import os\n",
    "from gensim.models.doc2vec import Doc2Vec, TaggedDocument\n",
    "\n",
    "model_path = \"model/doc2vec.model\"\n",
    "documents = [TaggedDocument(key_words, [paper_id]) for paper_id, key_words in paper_data.items()]\n",
    "\n",
    "if os.path.exists(model_path) and os.path.isfile(model_path):\n",
    "    # load model\n",
    "    model = Doc2Vec.load(model_path)\n",
    "else:\n",
    "    model = Doc2Vec(documents, vector_size=100, window=3, min_count=1, workers=4, epochs=20)\n",
    "\n",
    "tte = model.corpus_count + len(documents)\n",
    "model.train(documents, total_examples=tte, epochs=20)\n",
    "model.save(model_path)"
   ]
  },
  {
   "cell_type": "code",
   "execution_count": 18,
   "metadata": {},
   "outputs": [
    {
     "name": "stderr",
     "output_type": "stream",
     "text": [
      "<ipython-input-18-e025193f2862>:3: DeprecationWarning: Call to deprecated `docvecs` (The `docvecs` property has been renamed `dv`.).\n",
      "  sims = model.docvecs.most_similar([inferred_vector])\n"
     ]
    },
    {
     "data": {
      "text/plain": [
       "[('6593edae-c1e9-4168-872d-ef3ebcabd270', 0.998130738735199),\n",
       " ('bcbd1591-2b8f-4cf7-852d-eb8a5d333e4f', 0.9981265068054199),\n",
       " ('404835be-38ff-43bd-9528-09004355a57a', 0.998114824295044),\n",
       " ('2acb346e-0d2f-4925-b307-ec45c0a69404', 0.9980873465538025),\n",
       " ('6dbc0ceb-e73d-4155-b679-df7715bcaec2', 0.998063862323761),\n",
       " ('8b36ec47-3c67-4571-bf5b-ec39c99684b7', 0.9980615973472595),\n",
       " ('4f7004cb-6397-447f-83f2-42625a9af8c0', 0.9980065822601318),\n",
       " ('42c14f25-000d-46e7-aaa0-14ad5436fb2b', 0.9979945421218872),\n",
       " ('d760b9b3-4d8d-47e2-9c71-43b01bc658e2', 0.9979574680328369),\n",
       " ('8def205e-689c-4a70-b2a5-c62611a3b9d2', 0.9979023933410645)]"
      ]
     },
     "execution_count": 18,
     "metadata": {},
     "output_type": "execute_result"
    }
   ],
   "source": [
    "user_vector = [['attention', 'person', 'segmentation', 'method', 'image', 'interactions', 'pwca']]\n",
    "inferred_vector = model.infer_vector(user_vector)\n",
    "sims = model.docvecs.most_similar([inferred_vector])\n",
    "sims"
   ]
  }
 ],
 "metadata": {
  "interpreter": {
   "hash": "49cb93f377a7abe7414b7b0f21fb3017538004a126cf690fb524202736b7fb92"
  },
  "kernelspec": {
   "display_name": "Python 3.8.8 ('base')",
   "language": "python",
   "name": "python3"
  },
  "language_info": {
   "codemirror_mode": {
    "name": "ipython",
    "version": 3
   },
   "file_extension": ".py",
   "mimetype": "text/x-python",
   "name": "python",
   "nbconvert_exporter": "python",
   "pygments_lexer": "ipython3",
   "version": "3.8.8"
  },
  "orig_nbformat": 4
 },
 "nbformat": 4,
 "nbformat_minor": 2
}
